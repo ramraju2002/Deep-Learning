{
  "cells": [
    {
      "cell_type": "markdown",
      "source": [
        "## name: V. Sai Rama Raju\n",
        "## reg no : 24040208009"
      ],
      "metadata": {
        "id": "7p9RUj-Nq0v-"
      },
      "id": "7p9RUj-Nq0v-"
    },
    {
      "cell_type": "markdown",
      "id": "dddeae04",
      "metadata": {
        "id": "dddeae04"
      },
      "source": [
        "# Real-world data representation using tensors"
      ]
    },
    {
      "cell_type": "markdown",
      "id": "2f046ba2",
      "metadata": {
        "id": "2f046ba2"
      },
      "source": [
        "## Working with images\n",
        "\n",
        "\n"
      ]
    },
    {
      "cell_type": "markdown",
      "source": [
        "### loading an image file"
      ],
      "metadata": {
        "id": "3U1DxeqdjWZe"
      },
      "id": "3U1DxeqdjWZe"
    },
    {
      "cell_type": "code",
      "execution_count": null,
      "id": "dee779e8",
      "metadata": {
        "colab": {
          "base_uri": "https://localhost:8080/"
        },
        "id": "dee779e8",
        "outputId": "a0ed3e36-49ce-4218-cf78-4f9e35b32f04"
      },
      "outputs": [
        {
          "output_type": "stream",
          "name": "stdout",
          "text": [
            "Requirement already satisfied: imageio in /usr/local/lib/python3.11/dist-packages (2.37.0)\n",
            "Requirement already satisfied: numpy in /usr/local/lib/python3.11/dist-packages (from imageio) (2.0.2)\n",
            "Requirement already satisfied: pillow>=8.3.2 in /usr/local/lib/python3.11/dist-packages (from imageio) (11.3.0)\n"
          ]
        }
      ],
      "source": [
        "%pip install imageio"
      ]
    },
    {
      "cell_type": "code",
      "execution_count": null,
      "id": "59b8cd50",
      "metadata": {
        "colab": {
          "base_uri": "https://localhost:8080/"
        },
        "id": "59b8cd50",
        "outputId": "4be6e937-5be7-412c-85b4-f2c8bd94dd6e"
      },
      "outputs": [
        {
          "output_type": "execute_result",
          "data": {
            "text/plain": [
              "(457, 370, 3)"
            ]
          },
          "metadata": {},
          "execution_count": 3
        }
      ],
      "source": [
        "import imageio.v2 as imageio\n",
        "\n",
        "img_arr = imageio.imread('/sathya-sai-baba.jpg')\n",
        "img_arr.shape"
      ]
    },
    {
      "cell_type": "code",
      "source": [
        "from google.colab import drive\n",
        "drive.mount('/content/drive')"
      ],
      "metadata": {
        "colab": {
          "base_uri": "https://localhost:8080/"
        },
        "id": "AFHI5OKPfT1f",
        "outputId": "f5e6c94c-9a26-4584-a43d-5e77d16226a1"
      },
      "id": "AFHI5OKPfT1f",
      "execution_count": null,
      "outputs": [
        {
          "output_type": "stream",
          "name": "stdout",
          "text": [
            "Drive already mounted at /content/drive; to attempt to forcibly remount, call drive.mount(\"/content/drive\", force_remount=True).\n"
          ]
        }
      ]
    },
    {
      "cell_type": "markdown",
      "id": "94ff1b78",
      "metadata": {
        "id": "94ff1b78"
      },
      "source": [
        "### Changing the layout\n"
      ]
    },
    {
      "cell_type": "code",
      "execution_count": null,
      "id": "2cadaeaf",
      "metadata": {
        "id": "2cadaeaf"
      },
      "outputs": [],
      "source": [
        "import torch"
      ]
    },
    {
      "cell_type": "code",
      "execution_count": null,
      "id": "527e5449",
      "metadata": {
        "id": "527e5449"
      },
      "outputs": [],
      "source": [
        "img = torch.from_numpy(img_arr)\n",
        "out = img.permute(2, 0, 1)"
      ]
    },
    {
      "cell_type": "code",
      "execution_count": null,
      "id": "78f68bca",
      "metadata": {
        "id": "78f68bca"
      },
      "outputs": [],
      "source": [
        "batch_size = 3\n",
        "batch = torch.zeros(batch_size, 3, 256, 256, dtype=torch.uint8)"
      ]
    },
    {
      "cell_type": "markdown",
      "id": "83e2b9cd",
      "metadata": {
        "id": "83e2b9cd"
      },
      "source": [
        "We can now load all PNG images from an input directory and store them in\n",
        "the tensor:"
      ]
    },
    {
      "cell_type": "code",
      "execution_count": null,
      "id": "77f8a441",
      "metadata": {
        "id": "77f8a441"
      },
      "outputs": [],
      "source": [
        "import os\n",
        "data_dir = '/content/drive/MyDrive/deep learning/p1ch4/image-cats'\n",
        "filenames = [name for name in os.listdir(data_dir)\n",
        "if os.path.splitext(name)[-1] == '.png']\n",
        "for i, filename in enumerate(filenames):\n",
        "    img_arr = imageio.imread(os.path.join(data_dir, filename))\n",
        "    img_t = torch.from_numpy(img_arr)\n",
        "    img_t = img_t.permute(2, 0, 1)\n",
        "    img_t = img_t[:3]  #Here we keep only the first three channels.Sometimes images also have an alpha channel indicating transparency, but our network only wants RGB input.\n",
        "    batch[i] = img_t"
      ]
    },
    {
      "cell_type": "markdown",
      "id": "d07f9bb3",
      "metadata": {
        "id": "d07f9bb3"
      },
      "source": [
        "### Normalizing the data\n"
      ]
    },
    {
      "cell_type": "code",
      "execution_count": null,
      "id": "365aba78",
      "metadata": {
        "id": "365aba78"
      },
      "outputs": [],
      "source": [
        "batch = batch.float()\n",
        "batch /= 255.0"
      ]
    },
    {
      "cell_type": "code",
      "execution_count": null,
      "id": "7a37646c",
      "metadata": {
        "id": "7a37646c"
      },
      "outputs": [],
      "source": [
        "n_channels = batch.shape[1]\n",
        "for c in range(n_channels):\n",
        "    mean = torch.mean(batch[:, c])\n",
        "    std = torch.std(batch[:, c])\n",
        "    batch[:, c] = (batch[:, c] - mean) / std"
      ]
    },
    {
      "cell_type": "markdown",
      "id": "e6df581e",
      "metadata": {
        "id": "e6df581e"
      },
      "source": [
        "## 3D images: Volumetric data"
      ]
    },
    {
      "cell_type": "markdown",
      "id": "20181bac",
      "metadata": {
        "id": "20181bac"
      },
      "source": [
        "### Loading a specialized format"
      ]
    },
    {
      "cell_type": "code",
      "execution_count": null,
      "id": "06802fd8",
      "metadata": {
        "colab": {
          "base_uri": "https://localhost:8080/"
        },
        "id": "06802fd8",
        "outputId": "78cdbf80-3eb6-4568-b0c0-e5ed69423092"
      },
      "outputs": [
        {
          "output_type": "stream",
          "name": "stdout",
          "text": [
            "Reading DICOM (examining files): 1/99 files (1.0%)\b\b\b\b\b\b\b\b\b\b\b\b\b\b\b\b\b24/99 files (24.2%)\b\b\b\b\b\b\b\b\b\b\b\b\b\b\b\b\b\b\b46/99 files (46.5%)\b\b\b\b\b\b\b\b\b\b\b\b\b\b\b\b\b\b\b72/99 files (72.7%)\b\b\b\b\b\b\b\b\b\b\b\b\b\b\b\b\b\b\b99/99 files (100.0%)\b\b\b\b\b\b\b\b\b\b\b\b\b\b\b\b\b\b\b\b99/99 files (100.0%)\n",
            "  Found 1 correct series.\n",
            "Reading DICOM (loading data): 13/99  (13.1%)\b\b\b\b\b\b\b\b\b\b\b\b\b\b32/99  (32.3%)\b\b\b\b\b\b\b\b\b\b\b\b\b\b52/99  (52.5%)\b\b\b\b\b\b\b\b\b\b\b\b\b\b72/99  (72.7%)\b\b\b\b\b\b\b\b\b\b\b\b\b\b87/99  (87.9%)\b\b\b\b\b\b\b\b\b\b\b\b\b\b99/99  (100.0%)\n"
          ]
        },
        {
          "output_type": "execute_result",
          "data": {
            "text/plain": [
              "(99, 512, 512)"
            ]
          },
          "metadata": {},
          "execution_count": 33
        }
      ],
      "source": [
        "dir_path = \"/content/drive/MyDrive/deep learning/p1ch4/volumetric-dicom/2-LUNG 3.0  B70f-04083\"\n",
        "vol_arr = imageio.volread(dir_path, 'DICOM')\n",
        "vol_arr.shape"
      ]
    },
    {
      "cell_type": "code",
      "execution_count": null,
      "id": "443e9ad6",
      "metadata": {
        "colab": {
          "base_uri": "https://localhost:8080/"
        },
        "id": "443e9ad6",
        "outputId": "39d7b657-94e1-4a44-bd1f-31eee0e6d2e6"
      },
      "outputs": [
        {
          "output_type": "execute_result",
          "data": {
            "text/plain": [
              "torch.Size([1, 99, 512, 512])"
            ]
          },
          "metadata": {},
          "execution_count": 34
        }
      ],
      "source": [
        "vol = torch.from_numpy(vol_arr).float()\n",
        "vol = torch.unsqueeze(vol, 0)\n",
        "vol.shape"
      ]
    },
    {
      "cell_type": "code",
      "execution_count": null,
      "id": "3218cacd",
      "metadata": {
        "colab": {
          "base_uri": "https://localhost:8080/",
          "height": 452
        },
        "id": "3218cacd",
        "outputId": "f57c9e98-2730-4935-dba5-e5d4ab035153"
      },
      "outputs": [
        {
          "output_type": "execute_result",
          "data": {
            "text/plain": [
              "<matplotlib.image.AxesImage at 0x7eeb82178850>"
            ]
          },
          "metadata": {},
          "execution_count": 36
        },
        {
          "output_type": "display_data",
          "data": {
            "text/plain": [
              "<Figure size 640x480 with 1 Axes>"
            ],
            "image/png": "[encoded data removed]"
          },
          "metadata": {}
        }
      ],
      "source": [
        "%matplotlib inline\n",
        "import matplotlib.pyplot as plt\n",
        "\n",
        "plt.imshow(vol_arr[2])"
      ]
    },
    {
      "cell_type": "markdown",
      "id": "293d6cdc",
      "metadata": {
        "id": "293d6cdc"
      },
      "source": [
        "## Representing tabular data"
      ]
    },
    {
      "cell_type": "markdown",
      "id": "9a9e886c",
      "metadata": {
        "id": "9a9e886c"
      },
      "source": [
        "### Loading a wine data tensor"
      ]
    },
    {
      "cell_type": "code",
      "execution_count": null,
      "id": "3a01510c",
      "metadata": {
        "colab": {
          "base_uri": "https://localhost:8080/"
        },
        "id": "3a01510c",
        "outputId": "49d284d6-9e89-43f6-8e21-96e50ef451eb"
      },
      "outputs": [
        {
          "output_type": "execute_result",
          "data": {
            "text/plain": [
              "array([[ 7.  ,  0.27,  0.36, ...,  0.45,  8.8 ,  6.  ],\n",
              "       [ 6.3 ,  0.3 ,  0.34, ...,  0.49,  9.5 ,  6.  ],\n",
              "       [ 8.1 ,  0.28,  0.4 , ...,  0.44, 10.1 ,  6.  ],\n",
              "       ...,\n",
              "       [ 6.5 ,  0.24,  0.19, ...,  0.46,  9.4 ,  6.  ],\n",
              "       [ 5.5 ,  0.29,  0.3 , ...,  0.38, 12.8 ,  7.  ],\n",
              "       [ 6.  ,  0.21,  0.38, ...,  0.32, 11.8 ,  6.  ]], dtype=float32)"
            ]
          },
          "metadata": {},
          "execution_count": 37
        }
      ],
      "source": [
        "import csv\n",
        "import numpy as np\n",
        "wine_path = \"/content/drive/MyDrive/deep learning/p1ch4/tabular-wine/winequality-white.csv\"\n",
        "wineq_numpy = np.loadtxt(wine_path, dtype=np.float32, delimiter=\";\",\n",
        "skiprows=1)\n",
        "wineq_numpy"
      ]
    },
    {
      "cell_type": "code",
      "execution_count": null,
      "id": "01bd0e85",
      "metadata": {
        "colab": {
          "base_uri": "https://localhost:8080/"
        },
        "id": "01bd0e85",
        "outputId": "8b413a39-fc6c-48d6-c836-8baf926b397a"
      },
      "outputs": [
        {
          "output_type": "execute_result",
          "data": {
            "text/plain": [
              "((4898, 12),\n",
              " ['fixed acidity',\n",
              "  'volatile acidity',\n",
              "  'citric acid',\n",
              "  'residual sugar',\n",
              "  'chlorides',\n",
              "  'free sulfur dioxide',\n",
              "  'total sulfur dioxide',\n",
              "  'density',\n",
              "  'pH',\n",
              "  'sulphates',\n",
              "  'alcohol',\n",
              "  'quality'])"
            ]
          },
          "metadata": {},
          "execution_count": 38
        }
      ],
      "source": [
        "col_list = next(csv.reader(open(wine_path), delimiter=';'))\n",
        "wineq_numpy.shape, col_list"
      ]
    },
    {
      "cell_type": "code",
      "execution_count": null,
      "id": "f1a84273",
      "metadata": {
        "colab": {
          "base_uri": "https://localhost:8080/"
        },
        "id": "f1a84273",
        "outputId": "0756ada4-15dd-4e58-b384-f9a708a17a59"
      },
      "outputs": [
        {
          "output_type": "execute_result",
          "data": {
            "text/plain": [
              "(torch.Size([4898, 12]), torch.float32)"
            ]
          },
          "metadata": {},
          "execution_count": 39
        }
      ],
      "source": [
        "wineq = torch.from_numpy(wineq_numpy)\n",
        "wineq.shape, wineq.dtype"
      ]
    },
    {
      "cell_type": "markdown",
      "id": "3de2a324",
      "metadata": {
        "id": "3de2a324"
      },
      "source": [
        "### Representing scores"
      ]
    },
    {
      "cell_type": "code",
      "execution_count": null,
      "id": "4f0e220c",
      "metadata": {
        "colab": {
          "base_uri": "https://localhost:8080/"
        },
        "id": "4f0e220c",
        "outputId": "d10d0abc-33ae-485d-da86-3d9d63c9dad0"
      },
      "outputs": [
        {
          "output_type": "execute_result",
          "data": {
            "text/plain": [
              "(tensor([[ 7.0000,  0.2700,  0.3600,  ...,  3.0000,  0.4500,  8.8000],\n",
              "         [ 6.3000,  0.3000,  0.3400,  ...,  3.3000,  0.4900,  9.5000],\n",
              "         [ 8.1000,  0.2800,  0.4000,  ...,  3.2600,  0.4400, 10.1000],\n",
              "         ...,\n",
              "         [ 6.5000,  0.2400,  0.1900,  ...,  2.9900,  0.4600,  9.4000],\n",
              "         [ 5.5000,  0.2900,  0.3000,  ...,  3.3400,  0.3800, 12.8000],\n",
              "         [ 6.0000,  0.2100,  0.3800,  ...,  3.2600,  0.3200, 11.8000]]),\n",
              " torch.Size([4898, 11]))"
            ]
          },
          "metadata": {},
          "execution_count": 18
        }
      ],
      "source": [
        "data = wineq[:, :-1] # Selects all rows and all columns except the last\n",
        "data, data.shape"
      ]
    },
    {
      "cell_type": "code",
      "execution_count": null,
      "id": "dd76639a",
      "metadata": {
        "colab": {
          "base_uri": "https://localhost:8080/"
        },
        "id": "dd76639a",
        "outputId": "c6393718-055e-4a0c-bc44-a4b454255bad"
      },
      "outputs": [
        {
          "output_type": "execute_result",
          "data": {
            "text/plain": [
              "(tensor([6., 6., 6.,  ..., 6., 7., 6.]), torch.Size([4898]))"
            ]
          },
          "metadata": {},
          "execution_count": 19
        }
      ],
      "source": [
        "target = wineq[:, -1] # Selects all rows and the last column\n",
        "target, target.shape"
      ]
    },
    {
      "cell_type": "code",
      "execution_count": null,
      "id": "5c64d0a0",
      "metadata": {
        "colab": {
          "base_uri": "https://localhost:8080/"
        },
        "id": "5c64d0a0",
        "outputId": "32d8e13a-335f-4b17-afd0-38074de8cc3a"
      },
      "outputs": [
        {
          "output_type": "execute_result",
          "data": {
            "text/plain": [
              "tensor([6, 6, 6,  ..., 6, 7, 6])"
            ]
          },
          "metadata": {},
          "execution_count": 20
        }
      ],
      "source": [
        "target = wineq[:, -1].long()\n",
        "target"
      ]
    },
    {
      "cell_type": "markdown",
      "id": "6fc5c8d4",
      "metadata": {
        "id": "6fc5c8d4"
      },
      "source": [
        "### One-hot encoding\n"
      ]
    },
    {
      "cell_type": "code",
      "execution_count": null,
      "id": "e31882ce",
      "metadata": {
        "colab": {
          "base_uri": "https://localhost:8080/"
        },
        "id": "e31882ce",
        "outputId": "ea062e33-d0f3-4217-9436-38adb3ad073f"
      },
      "outputs": [
        {
          "output_type": "execute_result",
          "data": {
            "text/plain": [
              "tensor([[0., 0., 0.,  ..., 0., 0., 0.],\n",
              "        [0., 0., 0.,  ..., 0., 0., 0.],\n",
              "        [0., 0., 0.,  ..., 0., 0., 0.],\n",
              "        ...,\n",
              "        [0., 0., 0.,  ..., 0., 0., 0.],\n",
              "        [0., 0., 0.,  ..., 1., 0., 0.],\n",
              "        [0., 0., 0.,  ..., 0., 0., 0.]])"
            ]
          },
          "metadata": {},
          "execution_count": 21
        }
      ],
      "source": [
        "target_onehot = torch.zeros(target.shape[0], 10)\n",
        "target_onehot.scatter_(1, target.unsqueeze(1), 1.0)"
      ]
    },
    {
      "cell_type": "code",
      "execution_count": null,
      "id": "aad4e0f9",
      "metadata": {
        "colab": {
          "base_uri": "https://localhost:8080/"
        },
        "id": "aad4e0f9",
        "outputId": "3d41e7de-697c-44b8-cb26-2c3ab7912f5b"
      },
      "outputs": [
        {
          "output_type": "execute_result",
          "data": {
            "text/plain": [
              "tensor([[6],\n",
              "        [6],\n",
              "        [6],\n",
              "        ...,\n",
              "        [6],\n",
              "        [7],\n",
              "        [6]])"
            ]
          },
          "metadata": {},
          "execution_count": 22
        }
      ],
      "source": [
        "target_unsqueezed = target.unsqueeze(1)\n",
        "target_unsqueezed"
      ]
    },
    {
      "cell_type": "markdown",
      "source": [
        "### when to categorize"
      ],
      "metadata": {
        "id": "E5jZ9hDylrNF"
      },
      "id": "E5jZ9hDylrNF"
    },
    {
      "cell_type": "code",
      "execution_count": null,
      "id": "db93acb6",
      "metadata": {
        "colab": {
          "base_uri": "https://localhost:8080/"
        },
        "id": "db93acb6",
        "outputId": "f2aec372-3adc-42d6-fab6-639a8d9a171a"
      },
      "outputs": [
        {
          "output_type": "execute_result",
          "data": {
            "text/plain": [
              "tensor([6.8548e+00, 2.7824e-01, 3.3419e-01, 6.3914e+00, 4.5772e-02, 3.5308e+01,\n",
              "        1.3836e+02, 9.9403e-01, 3.1883e+00, 4.8985e-01, 1.0514e+01])"
            ]
          },
          "metadata": {},
          "execution_count": 23
        }
      ],
      "source": [
        "data_mean = torch.mean(data, dim=0)\n",
        "data_mean"
      ]
    },
    {
      "cell_type": "code",
      "execution_count": null,
      "id": "f5b0bd76",
      "metadata": {
        "colab": {
          "base_uri": "https://localhost:8080/"
        },
        "id": "f5b0bd76",
        "outputId": "3bbcc70d-9eb6-4213-e5e2-4eee4789b9fb"
      },
      "outputs": [
        {
          "output_type": "execute_result",
          "data": {
            "text/plain": [
              "tensor([7.1211e-01, 1.0160e-02, 1.4646e-02, 2.5726e+01, 4.7733e-04, 2.8924e+02,\n",
              "        1.8061e+03, 8.9455e-06, 2.2801e-02, 1.3025e-02, 1.5144e+00])"
            ]
          },
          "metadata": {},
          "execution_count": 24
        }
      ],
      "source": [
        "data_var = torch.var(data, dim=0)\n",
        "data_var"
      ]
    },
    {
      "cell_type": "code",
      "execution_count": null,
      "id": "5b70a9c8",
      "metadata": {
        "colab": {
          "base_uri": "https://localhost:8080/"
        },
        "id": "5b70a9c8",
        "outputId": "6405ef9d-59a3-48b9-ecdf-d5cd86086ad0"
      },
      "outputs": [
        {
          "output_type": "execute_result",
          "data": {
            "text/plain": [
              "tensor([[ 1.7208e-01, -8.1761e-02,  2.1326e-01,  ..., -1.2468e+00,\n",
              "         -3.4915e-01, -1.3930e+00],\n",
              "        [-6.5743e-01,  2.1587e-01,  4.7996e-02,  ...,  7.3995e-01,\n",
              "          1.3422e-03, -8.2419e-01],\n",
              "        [ 1.4756e+00,  1.7450e-02,  5.4378e-01,  ...,  4.7505e-01,\n",
              "         -4.3677e-01, -3.3663e-01],\n",
              "        ...,\n",
              "        [-4.2043e-01, -3.7940e-01, -1.1915e+00,  ..., -1.3130e+00,\n",
              "         -2.6153e-01, -9.0545e-01],\n",
              "        [-1.6054e+00,  1.1666e-01, -2.8253e-01,  ...,  1.0049e+00,\n",
              "         -9.6251e-01,  1.8574e+00],\n",
              "        [-1.0129e+00, -6.7703e-01,  3.7852e-01,  ...,  4.7505e-01,\n",
              "         -1.4882e+00,  1.0448e+00]])"
            ]
          },
          "metadata": {},
          "execution_count": 25
        }
      ],
      "source": [
        "data_normalized = (data - data_mean) / torch.sqrt(data_var)\n",
        "data_normalized"
      ]
    },
    {
      "cell_type": "markdown",
      "id": "7db4a6f2",
      "metadata": {
        "id": "7db4a6f2"
      },
      "source": [
        "### Finding thresholds"
      ]
    },
    {
      "cell_type": "code",
      "execution_count": null,
      "id": "d6886cca",
      "metadata": {
        "colab": {
          "base_uri": "https://localhost:8080/"
        },
        "id": "d6886cca",
        "outputId": "c7f61693-cba6-4550-a7eb-d9e57d3b38db"
      },
      "outputs": [
        {
          "output_type": "execute_result",
          "data": {
            "text/plain": [
              "(torch.Size([4898]), torch.bool, tensor(20))"
            ]
          },
          "metadata": {},
          "execution_count": 26
        }
      ],
      "source": [
        "bad_indexes = target <= 3\n",
        "bad_indexes.shape, bad_indexes.dtype, bad_indexes.sum()"
      ]
    },
    {
      "cell_type": "code",
      "execution_count": null,
      "id": "b9b593ca",
      "metadata": {
        "colab": {
          "base_uri": "https://localhost:8080/"
        },
        "id": "b9b593ca",
        "outputId": "084a9e4d-bdea-429c-d489-fe9fdfccb091"
      },
      "outputs": [
        {
          "output_type": "execute_result",
          "data": {
            "text/plain": [
              "torch.Size([20, 11])"
            ]
          },
          "metadata": {},
          "execution_count": 27
        }
      ],
      "source": [
        "bad_data = data[bad_indexes]\n",
        "bad_data.shape"
      ]
    },
    {
      "cell_type": "code",
      "execution_count": null,
      "id": "581d9bb2",
      "metadata": {
        "colab": {
          "base_uri": "https://localhost:8080/"
        },
        "id": "581d9bb2",
        "outputId": "aed5cedb-feed-475c-e0c8-2c230a38995f"
      },
      "outputs": [
        {
          "output_type": "stream",
          "name": "stdout",
          "text": [
            " 0 fixed acidity          7.60   6.89   6.73\n",
            " 1 volatile acidity       0.33   0.28   0.27\n",
            " 2 citric acid            0.34   0.34   0.33\n",
            " 3 residual sugar         6.39   6.71   5.26\n",
            " 4 chlorides              0.05   0.05   0.04\n",
            " 5 free sulfur dioxide   53.33  35.42  34.55\n",
            " 6 total sulfur dioxide 170.60 141.83 125.25\n",
            " 7 density                0.99   0.99   0.99\n",
            " 8 pH                     3.19   3.18   3.22\n",
            " 9 sulphates              0.47   0.49   0.50\n",
            "10 alcohol               10.34  10.26  11.42\n"
          ]
        }
      ],
      "source": [
        "bad_data = data[target <= 3]\n",
        "mid_data = data[(target > 3) & (target < 7)] # For Boolean NumPy arrays and PyTorch tensors, the & operator does a logical “and” operation.\n",
        "good_data = data[target >= 7]\n",
        "bad_mean = torch.mean(bad_data, dim=0)\n",
        "mid_mean = torch.mean(mid_data, dim=0)\n",
        "good_mean = torch.mean(good_data, dim=0)\n",
        "for i, args in enumerate(zip(col_list, bad_mean, mid_mean, good_mean)):\n",
        "    print('{:2} {:20} {:6.2f} {:6.2f} {:6.2f}'.format(i, *args))"
      ]
    },
    {
      "cell_type": "code",
      "execution_count": null,
      "id": "78a43e71",
      "metadata": {
        "colab": {
          "base_uri": "https://localhost:8080/"
        },
        "id": "78a43e71",
        "outputId": "e5795e06-3e1b-4205-b05a-4118f65e1232"
      },
      "outputs": [
        {
          "output_type": "execute_result",
          "data": {
            "text/plain": [
              "(torch.Size([4898]), torch.bool, tensor(2727))"
            ]
          },
          "metadata": {},
          "execution_count": 29
        }
      ],
      "source": [
        "total_sulfur_threshold = 141.83\n",
        "total_sulfur_data = data[:,6]\n",
        "predicted_indexes = torch.lt(total_sulfur_data, total_sulfur_threshold)\n",
        "predicted_indexes.shape, predicted_indexes.dtype, predicted_indexes.sum()"
      ]
    },
    {
      "cell_type": "code",
      "execution_count": null,
      "id": "809998a7",
      "metadata": {
        "colab": {
          "base_uri": "https://localhost:8080/"
        },
        "id": "809998a7",
        "outputId": "65cbcaf3-36be-4e55-afde-0e014b59fd0b"
      },
      "outputs": [
        {
          "output_type": "execute_result",
          "data": {
            "text/plain": [
              "(torch.Size([4898]), torch.bool, tensor(3258))"
            ]
          },
          "metadata": {},
          "execution_count": 30
        }
      ],
      "source": [
        "actual_indexes = target > 5\n",
        "actual_indexes.shape, actual_indexes.dtype, actual_indexes.sum()"
      ]
    },
    {
      "cell_type": "code",
      "execution_count": null,
      "id": "c40b572d",
      "metadata": {
        "colab": {
          "base_uri": "https://localhost:8080/"
        },
        "id": "c40b572d",
        "outputId": "abc60c25-330d-4bf8-a0cc-fcdd17cbfd6d"
      },
      "outputs": [
        {
          "output_type": "execute_result",
          "data": {
            "text/plain": [
              "(2018, 0.74000733406674, 0.6193984039287906)"
            ]
          },
          "metadata": {},
          "execution_count": 31
        }
      ],
      "source": [
        "n_matches = torch.sum(actual_indexes & predicted_indexes).item()\n",
        "n_predicted = torch.sum(predicted_indexes).item()\n",
        "n_actual = torch.sum(actual_indexes).item()\n",
        "n_matches, n_matches / n_predicted, n_matches / n_actual"
      ]
    },
    {
      "cell_type": "markdown",
      "id": "ef84277b",
      "metadata": {
        "id": "ef84277b"
      },
      "source": [
        "## Working with time series"
      ]
    },
    {
      "cell_type": "markdown",
      "id": "3a529e7f",
      "metadata": {
        "id": "3a529e7f"
      },
      "source": [
        "### Adding a time dimension"
      ]
    },
    {
      "cell_type": "code",
      "execution_count": null,
      "id": "c635d0f5",
      "metadata": {
        "colab": {
          "base_uri": "https://localhost:8080/"
        },
        "id": "c635d0f5",
        "outputId": "ecb12655-1ed4-4b82-9689-4b31cf43ee93"
      },
      "outputs": [
        {
          "output_type": "execute_result",
          "data": {
            "text/plain": [
              "tensor([[1.0000e+00, 1.0000e+00, 1.0000e+00,  ..., 3.0000e+00, 1.3000e+01,\n",
              "         1.6000e+01],\n",
              "        [2.0000e+00, 1.0000e+00, 1.0000e+00,  ..., 8.0000e+00, 3.2000e+01,\n",
              "         4.0000e+01],\n",
              "        [3.0000e+00, 1.0000e+00, 1.0000e+00,  ..., 5.0000e+00, 2.7000e+01,\n",
              "         3.2000e+01],\n",
              "        ...,\n",
              "        [1.7377e+04, 3.1000e+01, 1.0000e+00,  ..., 7.0000e+00, 8.3000e+01,\n",
              "         9.0000e+01],\n",
              "        [1.7378e+04, 3.1000e+01, 1.0000e+00,  ..., 1.3000e+01, 4.8000e+01,\n",
              "         6.1000e+01],\n",
              "        [1.7379e+04, 3.1000e+01, 1.0000e+00,  ..., 1.2000e+01, 3.7000e+01,\n",
              "         4.9000e+01]])"
            ]
          },
          "metadata": {},
          "execution_count": 41
        }
      ],
      "source": [
        "bikes_numpy = np.loadtxt(\n",
        "\"/content/drive/MyDrive/deep learning/p1ch4/bike-sharing-dataset/hour-fixed.csv\",\n",
        "    dtype=np.float32,\n",
        "    delimiter=\",\",\n",
        "    skiprows=1,\n",
        "    converters={1: lambda x: float(x[8:10])})#Converts date strings to numbers corresponding to the day of the month in column 1\n",
        "bikes = torch.from_numpy(bikes_numpy)\n",
        "bikes"
      ]
    },
    {
      "cell_type": "markdown",
      "id": "6b7a2a9a",
      "metadata": {
        "id": "6b7a2a9a"
      },
      "source": [
        "### Shaping the data by time period"
      ]
    },
    {
      "cell_type": "code",
      "execution_count": null,
      "id": "8e82cd43",
      "metadata": {
        "id": "8e82cd43",
        "outputId": "ab701db1-f83a-414a-cb9b-e595969378c1",
        "colab": {
          "base_uri": "https://localhost:8080/"
        }
      },
      "outputs": [
        {
          "output_type": "execute_result",
          "data": {
            "text/plain": [
              "(torch.Size([17520, 17]), (17, 1))"
            ]
          },
          "metadata": {},
          "execution_count": 42
        }
      ],
      "source": [
        "bikes.shape, bikes.stride()"
      ]
    },
    {
      "cell_type": "code",
      "execution_count": null,
      "id": "0610c5fa",
      "metadata": {
        "id": "0610c5fa",
        "outputId": "905ca714-9501-4ec6-daca-61fce3170fc1"
      },
      "outputs": [
        {
          "data": {
            "text/plain": [
              "(torch.Size([730, 24, 17]), (408, 17, 1))"
            ]
          },
          "execution_count": 49,
          "metadata": {},
          "output_type": "execute_result"
        }
      ],
      "source": [
        "daily_bikes = bikes.view(-1, 24, bikes.shape[1])\n",
        "daily_bikes.shape, daily_bikes.stride()"
      ]
    },
    {
      "cell_type": "code",
      "execution_count": null,
      "id": "ed7e9f7f",
      "metadata": {
        "id": "ed7e9f7f",
        "outputId": "dd9f2544-5d74-49c9-e14b-72a0d89e9310"
      },
      "outputs": [
        {
          "data": {
            "text/plain": [
              "(torch.Size([730, 17, 24]), (408, 1, 17))"
            ]
          },
          "execution_count": 50,
          "metadata": {},
          "output_type": "execute_result"
        }
      ],
      "source": [
        "daily_bikes = daily_bikes.transpose(1, 2)\n",
        "daily_bikes.shape, daily_bikes.stride()"
      ]
    },
    {
      "cell_type": "markdown",
      "id": "cafa6f03",
      "metadata": {
        "id": "cafa6f03"
      },
      "source": [
        "### Ready for training"
      ]
    },
    {
      "cell_type": "code",
      "execution_count": null,
      "id": "fae7ee4a",
      "metadata": {
        "id": "fae7ee4a",
        "outputId": "78fb9f5a-8a6c-4cd9-ba12-a543dfbda103",
        "colab": {
          "base_uri": "https://localhost:8080/"
        }
      },
      "outputs": [
        {
          "output_type": "execute_result",
          "data": {
            "text/plain": [
              "tensor([1, 1, 1, 1, 1, 2, 1, 1, 1, 1, 1, 1, 1, 2, 2, 2, 2, 2, 3, 3, 2, 2, 2, 2])"
            ]
          },
          "metadata": {},
          "execution_count": 43
        }
      ],
      "source": [
        "first_day = bikes[:24].long()\n",
        "weather_onehot = torch.zeros(first_day.shape[0], 4)\n",
        "first_day[:,9]"
      ]
    },
    {
      "cell_type": "code",
      "execution_count": null,
      "id": "ce1520ef",
      "metadata": {
        "id": "ce1520ef",
        "outputId": "f965006a-d7a9-459c-ca24-0423723a16f7",
        "colab": {
          "base_uri": "https://localhost:8080/"
        }
      },
      "outputs": [
        {
          "output_type": "execute_result",
          "data": {
            "text/plain": [
              "tensor([[1., 0., 0., 0.],\n",
              "        [1., 0., 0., 0.],\n",
              "        [1., 0., 0., 0.],\n",
              "        [1., 0., 0., 0.],\n",
              "        [1., 0., 0., 0.],\n",
              "        [0., 1., 0., 0.],\n",
              "        [1., 0., 0., 0.],\n",
              "        [1., 0., 0., 0.],\n",
              "        [1., 0., 0., 0.],\n",
              "        [1., 0., 0., 0.],\n",
              "        [1., 0., 0., 0.],\n",
              "        [1., 0., 0., 0.],\n",
              "        [1., 0., 0., 0.],\n",
              "        [0., 1., 0., 0.],\n",
              "        [0., 1., 0., 0.],\n",
              "        [0., 1., 0., 0.],\n",
              "        [0., 1., 0., 0.],\n",
              "        [0., 1., 0., 0.],\n",
              "        [0., 0., 1., 0.],\n",
              "        [0., 0., 1., 0.],\n",
              "        [0., 1., 0., 0.],\n",
              "        [0., 1., 0., 0.],\n",
              "        [0., 1., 0., 0.],\n",
              "        [0., 1., 0., 0.]])"
            ]
          },
          "metadata": {},
          "execution_count": 44
        }
      ],
      "source": [
        "weather_onehot.scatter_(\n",
        "    dim=1,\n",
        "    index=first_day[:,9].unsqueeze(1).long() - 1,#Decreases the values by 1 because weather situation ranges from 1 to 4, while indices are 0-based\n",
        "    value=1.0)"
      ]
    },
    {
      "cell_type": "code",
      "execution_count": null,
      "id": "39b7a086",
      "metadata": {
        "id": "39b7a086",
        "outputId": "973988d1-c00d-481f-9304-e272e2c9f5a6"
      },
      "outputs": [
        {
          "data": {
            "text/plain": [
              "tensor([[ 1.0000,  1.0000,  1.0000,  0.0000,  1.0000,  0.0000,  0.0000,  6.0000,\n",
              "          0.0000,  1.0000,  0.2400,  0.2879,  0.8100,  0.0000,  3.0000, 13.0000,\n",
              "         16.0000,  1.0000,  0.0000,  0.0000,  0.0000]])"
            ]
          },
          "execution_count": 53,
          "metadata": {},
          "output_type": "execute_result"
        }
      ],
      "source": [
        "torch.cat((bikes[:24], weather_onehot), 1)[:1]"
      ]
    },
    {
      "cell_type": "code",
      "execution_count": null,
      "id": "a23bf925",
      "metadata": {
        "id": "a23bf925",
        "outputId": "2b93eb9a-e523-4b99-d398-77f4db951bb9"
      },
      "outputs": [
        {
          "data": {
            "text/plain": [
              "torch.Size([730, 4, 24])"
            ]
          },
          "execution_count": 54,
          "metadata": {},
          "output_type": "execute_result"
        }
      ],
      "source": [
        "daily_weather_onehot = torch.zeros(daily_bikes.shape[0], 4,\n",
        "daily_bikes.shape[2])\n",
        "daily_weather_onehot.shape"
      ]
    },
    {
      "cell_type": "code",
      "execution_count": null,
      "id": "1c3b4a8d",
      "metadata": {
        "id": "1c3b4a8d",
        "outputId": "0b76120c-b125-4548-bf58-429ffea7a053"
      },
      "outputs": [
        {
          "data": {
            "text/plain": [
              "torch.Size([730, 4, 24])"
            ]
          },
          "execution_count": 55,
          "metadata": {},
          "output_type": "execute_result"
        }
      ],
      "source": [
        "daily_weather_onehot.scatter_(\n",
        "1, daily_bikes[:,9,:].long().unsqueeze(1) - 1, 1.0)\n",
        "daily_weather_onehot.shape"
      ]
    },
    {
      "cell_type": "code",
      "execution_count": null,
      "id": "af9e8d34",
      "metadata": {
        "id": "af9e8d34"
      },
      "outputs": [],
      "source": [
        "daily_bikes = torch.cat((daily_bikes, daily_weather_onehot), dim=1)"
      ]
    },
    {
      "cell_type": "code",
      "execution_count": null,
      "id": "58829990",
      "metadata": {
        "id": "58829990"
      },
      "outputs": [],
      "source": [
        "daily_bikes[:, 9, :] = (daily_bikes[:, 9, :] - 1.0) / 3.0"
      ]
    },
    {
      "cell_type": "code",
      "execution_count": null,
      "id": "c3dae28f",
      "metadata": {
        "id": "c3dae28f"
      },
      "outputs": [],
      "source": [
        "temp = daily_bikes[:, 10, :]\n",
        "temp_min = torch.min(temp)\n",
        "temp_max = torch.max(temp)\n",
        "daily_bikes[:, 10, :] = ((daily_bikes[:, 10, :] - temp_min)\n",
        "/ (temp_max - temp_min))"
      ]
    },
    {
      "cell_type": "code",
      "execution_count": null,
      "id": "84dacec8",
      "metadata": {
        "id": "84dacec8"
      },
      "outputs": [],
      "source": [
        "temp = daily_bikes[:, 10, :]\n",
        "daily_bikes[:, 10, :] = ((daily_bikes[:, 10,:] - torch.mean(temp))\n",
        "/ torch.std(temp))"
      ]
    },
    {
      "cell_type": "markdown",
      "id": "9aaaece9",
      "metadata": {
        "id": "9aaaece9"
      },
      "source": [
        "## Representing text"
      ]
    },
    {
      "cell_type": "markdown",
      "id": "e82305df",
      "metadata": {
        "id": "e82305df"
      },
      "source": [
        "### Converting text to numbers"
      ]
    },
    {
      "cell_type": "code",
      "execution_count": null,
      "id": "eff3f659",
      "metadata": {
        "id": "eff3f659"
      },
      "outputs": [],
      "source": [
        "with open('/content/drive/MyDrive/deep learning/p1ch4/jane-austen/1342-0.txt', encoding='utf8') as f:\n",
        "    text = f.read()"
      ]
    },
    {
      "cell_type": "markdown",
      "id": "d6aafe9b",
      "metadata": {
        "id": "d6aafe9b"
      },
      "source": [
        "### One-hot-encoding characters"
      ]
    },
    {
      "cell_type": "code",
      "execution_count": null,
      "id": "d6ceb5b3",
      "metadata": {
        "id": "d6ceb5b3",
        "outputId": "b8ccd0e2-3c1f-40aa-fac3-2ce165ccb636",
        "colab": {
          "base_uri": "https://localhost:8080/",
          "height": 35
        }
      },
      "outputs": [
        {
          "output_type": "execute_result",
          "data": {
            "text/plain": [
              "'“Impossible, Mr. Bennet, impossible, when I am not acquainted with him'"
            ],
            "application/vnd.google.colaboratory.intrinsic+json": {
              "type": "string"
            }
          },
          "metadata": {},
          "execution_count": 46
        }
      ],
      "source": [
        "lines = text.split('\\n')\n",
        "line = lines[200]\n",
        "line"
      ]
    },
    {
      "cell_type": "code",
      "execution_count": null,
      "id": "d28cac98",
      "metadata": {
        "id": "d28cac98",
        "outputId": "7ea22f20-2d1b-40a8-9ee2-a093c387abdf",
        "colab": {
          "base_uri": "https://localhost:8080/"
        }
      },
      "outputs": [
        {
          "output_type": "execute_result",
          "data": {
            "text/plain": [
              "torch.Size([70, 128])"
            ]
          },
          "metadata": {},
          "execution_count": 47
        }
      ],
      "source": [
        "letter_t = torch.zeros(len(line), 128) #128 hardcoded due to the limits of ASCII\n",
        "letter_t.shape"
      ]
    },
    {
      "cell_type": "code",
      "execution_count": null,
      "id": "9cfc802e",
      "metadata": {
        "id": "9cfc802e"
      },
      "outputs": [],
      "source": [
        "for i, letter in enumerate(line.lower().strip()):\n",
        "    letter_index = ord(letter) if ord(letter) < 128 else 0\n",
        "    letter_t[i][letter_index] = 1"
      ]
    },
    {
      "cell_type": "markdown",
      "id": "2e09d79d",
      "metadata": {
        "id": "2e09d79d"
      },
      "source": [
        "### One-hot encoding whole words"
      ]
    },
    {
      "cell_type": "code",
      "execution_count": null,
      "id": "2b29dc11",
      "metadata": {
        "id": "2b29dc11",
        "outputId": "ccc37340-d6bf-46af-9239-9e382569d2d2",
        "colab": {
          "base_uri": "https://localhost:8080/"
        }
      },
      "outputs": [
        {
          "output_type": "execute_result",
          "data": {
            "text/plain": [
              "('“Impossible, Mr. Bennet, impossible, when I am not acquainted with him',\n",
              " ['impossible',\n",
              "  'mr',\n",
              "  'bennet',\n",
              "  'impossible',\n",
              "  'when',\n",
              "  'i',\n",
              "  'am',\n",
              "  'not',\n",
              "  'acquainted',\n",
              "  'with',\n",
              "  'him'])"
            ]
          },
          "metadata": {},
          "execution_count": 49
        }
      ],
      "source": [
        "def clean_words(input_str):\n",
        "    punctuation = '.,;:\"!?”“_-'\n",
        "    word_list = input_str.lower().replace('\\n',' ').split()\n",
        "    word_list = [word.strip(punctuation) for word in word_list]\n",
        "    return word_list\n",
        "words_in_line = clean_words(line)\n",
        "line, words_in_line"
      ]
    },
    {
      "cell_type": "code",
      "execution_count": null,
      "id": "960409c0",
      "metadata": {
        "id": "960409c0",
        "outputId": "3f55960a-bb82-45da-e99e-89d3347a28fb",
        "colab": {
          "base_uri": "https://localhost:8080/"
        }
      },
      "outputs": [
        {
          "output_type": "execute_result",
          "data": {
            "text/plain": [
              "(7261, 3394)"
            ]
          },
          "metadata": {},
          "execution_count": 50
        }
      ],
      "source": [
        "word_list = sorted(set(clean_words(text)))\n",
        "word2index_dict = {word: i for (i, word) in enumerate(word_list)}\n",
        "len(word2index_dict), word2index_dict['impossible']"
      ]
    },
    {
      "cell_type": "code",
      "execution_count": null,
      "id": "8bcf9cd5",
      "metadata": {
        "id": "8bcf9cd5",
        "outputId": "f6db9474-34f1-411d-cc08-108f4c804eb6",
        "colab": {
          "base_uri": "https://localhost:8080/"
        }
      },
      "outputs": [
        {
          "output_type": "stream",
          "name": "stdout",
          "text": [
            " 0 3394 impossible\n",
            " 1 4305 mr\n",
            " 2  813 bennet\n",
            " 3 3394 impossible\n",
            " 4 7078 when\n",
            " 5 3315 i\n",
            " 6  415 am\n",
            " 7 4436 not\n",
            " 8  239 acquainted\n",
            " 9 7148 with\n",
            "10 3215 him\n",
            "torch.Size([11, 7261])\n"
          ]
        }
      ],
      "source": [
        "word_t = torch.zeros(len(words_in_line), len(word2index_dict))\n",
        "for i, word in enumerate(words_in_line):\n",
        "    word_index = word2index_dict[word]\n",
        "    word_t[i][word_index] = 1\n",
        "    print('{:2} {:4} {}'.format(i, word_index, word))\n",
        "print(word_t.shape)\n",
        "#At this point, tensor represents one sentence of length 11 in an encoding space of size 7,261, the number of words in our dictionary."
      ]
    }
  ],
  "metadata": {
    "kernelspec": {
      "display_name": "Python 3",
      "language": "python",
      "name": "python3"
    },
    "language_info": {
      "codemirror_mode": {
        "name": "ipython",
        "version": 3
      },
      "file_extension": ".py",
      "mimetype": "text/x-python",
      "name": "python",
      "nbconvert_exporter": "python",
      "pygments_lexer": "ipython3",
      "version": "3.11.1"
    },
    "colab": {
      "provenance": []
    }
  },
  "nbformat": 4,
  "nbformat_minor": 5
}