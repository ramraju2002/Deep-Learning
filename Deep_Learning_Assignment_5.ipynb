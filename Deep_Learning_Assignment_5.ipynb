{
  "nbformat": 4,
  "nbformat_minor": 0,
  "metadata": {
    "colab": {
      "provenance": [],
      "gpuType": "T4"
    },
    "kernelspec": {
      "name": "python3",
      "display_name": "Python 3"
    },
    "language_info": {
      "name": "python"
    },
    "accelerator": "GPU"
  },
  "cells": [
    {
      "cell_type": "code",
      "execution_count": 1,
      "metadata": {
        "id": "op01RO-VBJuW",
        "colab": {
          "base_uri": "https://localhost:8080/"
        },
        "outputId": "e8ea9162-1a2c-479c-913c-6d8291d657ad"
      },
      "outputs": [
        {
          "output_type": "stream",
          "name": "stderr",
          "text": [
            "100%|██████████| 170M/170M [00:13<00:00, 12.3MB/s]\n"
          ]
        }
      ],
      "source": [
        " from torchvision import datasets\n",
        " data_path = '/data-unversioned/p1ch7/cifar-10-batches-py'\n",
        " cifar10 = datasets.CIFAR10(data_path, train=True, download=True)\n",
        " cifar10_val = datasets.CIFAR10(data_path, train=False, download=True)"
      ]
    },
    {
      "cell_type": "code",
      "source": [
        " type(cifar10).__mro__"
      ],
      "metadata": {
        "colab": {
          "base_uri": "https://localhost:8080/"
        },
        "id": "dXaou1uqCRty",
        "outputId": "e17f8726-3e06-4999-d3bc-f8fbff4487fe"
      },
      "execution_count": 2,
      "outputs": [
        {
          "output_type": "execute_result",
          "data": {
            "text/plain": [
              "(torchvision.datasets.cifar.CIFAR10,\n",
              " torchvision.datasets.vision.VisionDataset,\n",
              " torch.utils.data.dataset.Dataset,\n",
              " typing.Generic,\n",
              " object)"
            ]
          },
          "metadata": {},
          "execution_count": 2
        }
      ]
    },
    {
      "cell_type": "code",
      "source": [
        "len(cifar10)"
      ],
      "metadata": {
        "colab": {
          "base_uri": "https://localhost:8080/"
        },
        "id": "BPDiCNuOCRjb",
        "outputId": "5b490060-c030-469e-ccbb-e8b7e2fc851a"
      },
      "execution_count": 3,
      "outputs": [
        {
          "output_type": "execute_result",
          "data": {
            "text/plain": [
              "50000"
            ]
          },
          "metadata": {},
          "execution_count": 3
        }
      ]
    },
    {
      "cell_type": "code",
      "source": [
        "img, label = cifar10[99]\n",
        "class_names = ['airplane', 'automobile', 'bird', 'cat', 'deer', 'dog', 'frog', 'horse', 'ship', 'truck']\n",
        "img, label, class_names[label]"
      ],
      "metadata": {
        "colab": {
          "base_uri": "https://localhost:8080/"
        },
        "id": "xqY5Jy4tCwmS",
        "outputId": "7125b923-99fc-4b7b-9aca-95384d87fc84"
      },
      "execution_count": 4,
      "outputs": [
        {
          "output_type": "execute_result",
          "data": {
            "text/plain": [
              "(<PIL.Image.Image image mode=RGB size=32x32>, 1, 'automobile')"
            ]
          },
          "metadata": {},
          "execution_count": 4
        }
      ]
    },
    {
      "cell_type": "code",
      "source": [
        "import matplotlib.pyplot as plt\n",
        "plt.imshow(img)\n",
        "plt.show()"
      ],
      "metadata": {
        "colab": {
          "base_uri": "https://localhost:8080/",
          "height": 430
        },
        "id": "vPa5aL3FDg7D",
        "outputId": "5e1c7e66-2e63-4dbd-fadf-2691b8f5c4ca"
      },
      "execution_count": 5,
      "outputs": [
        {
          "output_type": "display_data",
          "data": {
            "text/plain": [
              "<Figure size 640x480 with 1 Axes>"
            ],
            "image/png": "[encoded data removed]"
          },
          "metadata": {}
        }
      ]
    },
    {
      "cell_type": "code",
      "source": [
        " from torchvision import transforms\n",
        " dir(transforms)"
      ],
      "metadata": {
        "colab": {
          "base_uri": "https://localhost:8080/"
        },
        "id": "nB7_uqPzDzzq",
        "outputId": "424abded-2054-4f62-cdbc-338250ff59d4"
      },
      "execution_count": 6,
      "outputs": [
        {
          "output_type": "execute_result",
          "data": {
            "text/plain": [
              "['AugMix',\n",
              " 'AutoAugment',\n",
              " 'AutoAugmentPolicy',\n",
              " 'CenterCrop',\n",
              " 'ColorJitter',\n",
              " 'Compose',\n",
              " 'ConvertImageDtype',\n",
              " 'ElasticTransform',\n",
              " 'FiveCrop',\n",
              " 'GaussianBlur',\n",
              " 'Grayscale',\n",
              " 'InterpolationMode',\n",
              " 'Lambda',\n",
              " 'LinearTransformation',\n",
              " 'Normalize',\n",
              " 'PILToTensor',\n",
              " 'Pad',\n",
              " 'RandAugment',\n",
              " 'RandomAdjustSharpness',\n",
              " 'RandomAffine',\n",
              " 'RandomApply',\n",
              " 'RandomAutocontrast',\n",
              " 'RandomChoice',\n",
              " 'RandomCrop',\n",
              " 'RandomEqualize',\n",
              " 'RandomErasing',\n",
              " 'RandomGrayscale',\n",
              " 'RandomHorizontalFlip',\n",
              " 'RandomInvert',\n",
              " 'RandomOrder',\n",
              " 'RandomPerspective',\n",
              " 'RandomPosterize',\n",
              " 'RandomResizedCrop',\n",
              " 'RandomRotation',\n",
              " 'RandomSolarize',\n",
              " 'RandomVerticalFlip',\n",
              " 'Resize',\n",
              " 'TenCrop',\n",
              " 'ToPILImage',\n",
              " 'ToTensor',\n",
              " 'TrivialAugmentWide',\n",
              " '__builtins__',\n",
              " '__cached__',\n",
              " '__doc__',\n",
              " '__file__',\n",
              " '__loader__',\n",
              " '__name__',\n",
              " '__package__',\n",
              " '__path__',\n",
              " '__spec__',\n",
              " '_functional_pil',\n",
              " '_functional_tensor',\n",
              " '_presets',\n",
              " 'autoaugment',\n",
              " 'functional',\n",
              " 'transforms']"
            ]
          },
          "metadata": {},
          "execution_count": 6
        }
      ]
    },
    {
      "cell_type": "code",
      "source": [
        "from torchvision import transforms\n",
        "to_tensor = transforms.ToTensor()\n",
        "img_t = to_tensor(img)\n",
        "img_t.shape"
      ],
      "metadata": {
        "colab": {
          "base_uri": "https://localhost:8080/"
        },
        "id": "GWGG3t4nD8Qi",
        "outputId": "9263f85c-e073-4b11-a9af-3c2ebf4960e5"
      },
      "execution_count": 7,
      "outputs": [
        {
          "output_type": "execute_result",
          "data": {
            "text/plain": [
              "torch.Size([3, 32, 32])"
            ]
          },
          "metadata": {},
          "execution_count": 7
        }
      ]
    },
    {
      "cell_type": "code",
      "source": [
        " tensor_cifar10 = datasets.CIFAR10(data_path, train=True, download=False,\n",
        " transform=transforms.ToTensor())"
      ],
      "metadata": {
        "id": "z_QNMIR2EKlD"
      },
      "execution_count": 8,
      "outputs": []
    },
    {
      "cell_type": "code",
      "source": [
        " img_t, _ = tensor_cifar10[99]\n",
        " type(img_t)"
      ],
      "metadata": {
        "colab": {
          "base_uri": "https://localhost:8080/"
        },
        "id": "wW1VJWotERBC",
        "outputId": "719f80d8-c61d-43a5-a327-31d65c01d0e9"
      },
      "execution_count": 9,
      "outputs": [
        {
          "output_type": "execute_result",
          "data": {
            "text/plain": [
              "torch.Tensor"
            ]
          },
          "metadata": {},
          "execution_count": 9
        }
      ]
    },
    {
      "cell_type": "code",
      "source": [
        "img_t.shape, img_t.dtype"
      ],
      "metadata": {
        "colab": {
          "base_uri": "https://localhost:8080/"
        },
        "id": "M9s5OimxET76",
        "outputId": "0956e4ca-e28f-4e77-ce40-6721f4cd4380"
      },
      "execution_count": 10,
      "outputs": [
        {
          "output_type": "execute_result",
          "data": {
            "text/plain": [
              "(torch.Size([3, 32, 32]), torch.float32)"
            ]
          },
          "metadata": {},
          "execution_count": 10
        }
      ]
    },
    {
      "cell_type": "code",
      "source": [
        "img_t.min(), img_t.max()"
      ],
      "metadata": {
        "colab": {
          "base_uri": "https://localhost:8080/"
        },
        "id": "QLwFSFK_EXwS",
        "outputId": "ab1f1994-6388-4a9c-c201-df6f21f6fcbc"
      },
      "execution_count": 11,
      "outputs": [
        {
          "output_type": "execute_result",
          "data": {
            "text/plain": [
              "(tensor(0.), tensor(1.))"
            ]
          },
          "metadata": {},
          "execution_count": 11
        }
      ]
    },
    {
      "cell_type": "code",
      "source": [
        " plt.imshow(img_t.permute(1, 2, 0))\n",
        " plt.show()"
      ],
      "metadata": {
        "colab": {
          "base_uri": "https://localhost:8080/",
          "height": 430
        },
        "id": "34ZEul7YEawj",
        "outputId": "ebf89e93-5b74-4726-86ff-3aa5e97e0e4b"
      },
      "execution_count": 12,
      "outputs": [
        {
          "output_type": "display_data",
          "data": {
            "text/plain": [
              "<Figure size 640x480 with 1 Axes>"
            ],
            "image/png": "[encoded data removed]"
          },
          "metadata": {}
        }
      ]
    },
    {
      "cell_type": "code",
      "source": [
        "import torch\n",
        "imgs = torch.stack([img_t for img_t, _ in tensor_cifar10], dim=3)\n",
        "imgs.shape"
      ],
      "metadata": {
        "colab": {
          "base_uri": "https://localhost:8080/"
        },
        "id": "kTUvzg0sEgXj",
        "outputId": "6e8cd257-d2f6-414d-99c7-9d252df9f534"
      },
      "execution_count": 13,
      "outputs": [
        {
          "output_type": "execute_result",
          "data": {
            "text/plain": [
              "torch.Size([3, 32, 32, 50000])"
            ]
          },
          "metadata": {},
          "execution_count": 13
        }
      ]
    },
    {
      "cell_type": "code",
      "source": [
        "imgs.view(3,-1).mean(dim=1)"
      ],
      "metadata": {
        "colab": {
          "base_uri": "https://localhost:8080/"
        },
        "id": "ru2FWzWLEgRK",
        "outputId": "17a89557-4f44-4202-ef22-d402dffb38dc"
      },
      "execution_count": 14,
      "outputs": [
        {
          "output_type": "execute_result",
          "data": {
            "text/plain": [
              "tensor([0.4914, 0.4822, 0.4465])"
            ]
          },
          "metadata": {},
          "execution_count": 14
        }
      ]
    },
    {
      "cell_type": "code",
      "source": [
        "imgs.view(3,-1).std(dim=1)"
      ],
      "metadata": {
        "colab": {
          "base_uri": "https://localhost:8080/"
        },
        "id": "r_0e9GCWEw8T",
        "outputId": "e8bded6f-383b-4800-d7d7-8a70f2f31508"
      },
      "execution_count": 15,
      "outputs": [
        {
          "output_type": "execute_result",
          "data": {
            "text/plain": [
              "tensor([0.2470, 0.2435, 0.2616])"
            ]
          },
          "metadata": {},
          "execution_count": 15
        }
      ]
    },
    {
      "cell_type": "code",
      "source": [
        "transforms.Normalize((0.4915, 0.4823, 0.4468), (0.2470, 0.2435, 0.2616))"
      ],
      "metadata": {
        "colab": {
          "base_uri": "https://localhost:8080/"
        },
        "id": "ophtEPwNE0Fa",
        "outputId": "5e3d9851-496e-4929-bd89-34bf09dc7e37"
      },
      "execution_count": 16,
      "outputs": [
        {
          "output_type": "execute_result",
          "data": {
            "text/plain": [
              "Normalize(mean=(0.4915, 0.4823, 0.4468), std=(0.247, 0.2435, 0.2616))"
            ]
          },
          "metadata": {},
          "execution_count": 16
        }
      ]
    },
    {
      "cell_type": "code",
      "source": [
        " transformed_cifar10 = datasets.CIFAR10(\n",
        " data_path, train=True, download=False,\n",
        " transform=transforms.Compose([\n",
        " transforms.ToTensor(),\n",
        " transforms.Normalize((0.4915, 0.4823, 0.4468),\n",
        " (0.2470, 0.2435, 0.2616))\n",
        " ]))"
      ],
      "metadata": {
        "id": "3Z_acmbYE5bC"
      },
      "execution_count": 17,
      "outputs": []
    },
    {
      "cell_type": "code",
      "source": [
        "img_t, _ = transformed_cifar10[99]\n",
        "plt.imshow(img_t.permute(1, 2, 0))\n",
        "plt.show()"
      ],
      "metadata": {
        "colab": {
          "base_uri": "https://localhost:8080/",
          "height": 467
        },
        "id": "nFO7ivxlE-zy",
        "outputId": "4d9a9858-24b0-4196-83a0-8c296ea9cbca"
      },
      "execution_count": 18,
      "outputs": [
        {
          "output_type": "stream",
          "name": "stderr",
          "text": [
            "WARNING:matplotlib.image:Clipping input data to the valid range for imshow with RGB data ([0..1] for floats or [0..255] for integers). Got range [-1.9806982..2.126078].\n"
          ]
        },
        {
          "output_type": "display_data",
          "data": {
            "text/plain": [
              "<Figure size 640x480 with 1 Axes>"
            ],
            "image/png": "[encoded data removed]"
          },
          "metadata": {}
        }
      ]
    },
    {
      "cell_type": "code",
      "source": [
        "label_map = {0: 0, 2: 1}\n",
        "class_names = ['airplane', 'bird']\n",
        "cifar2 = [(transforms.ToTensor()(img), label_map[label])\n",
        "for img, label in cifar10\n",
        "if label in [0, 2]]\n",
        "cifar2_val = [(transforms.ToTensor()(img), label_map[label])\n",
        "for img, label in cifar10_val\n",
        "if label in [0, 2]]"
      ],
      "metadata": {
        "id": "PuU9Z0rLFEha"
      },
      "execution_count": 38,
      "outputs": []
    },
    {
      "cell_type": "code",
      "source": [
        "import torch.nn as nn\n",
        "n_out = 2\n",
        "# Input features\n",
        "# Output classes\n",
        "model = nn.Sequential(\n",
        "nn.Linear(3072,512,),\n",
        "nn.Tanh(),\n",
        "nn.Linear(512,n_out,))"
      ],
      "metadata": {
        "id": "o4_QiiZKFbTC"
      },
      "execution_count": 20,
      "outputs": []
    },
    {
      "cell_type": "code",
      "source": [
        "def softmax(x):\n",
        " return torch.exp(x) / torch.exp(x).sum()"
      ],
      "metadata": {
        "id": "6wycO2trF2pV"
      },
      "execution_count": 21,
      "outputs": []
    },
    {
      "cell_type": "code",
      "source": [
        "x = torch.tensor([1.0, 2.0, 3.0])\n",
        "softmax(x)"
      ],
      "metadata": {
        "colab": {
          "base_uri": "https://localhost:8080/"
        },
        "id": "MSK2SPiuF9Qr",
        "outputId": "d18df9ba-7ad0-4a98-f289-ba16503c9dbd"
      },
      "execution_count": 22,
      "outputs": [
        {
          "output_type": "execute_result",
          "data": {
            "text/plain": [
              "tensor([0.0900, 0.2447, 0.6652])"
            ]
          },
          "metadata": {},
          "execution_count": 22
        }
      ]
    },
    {
      "cell_type": "code",
      "source": [
        "softmax(x).sum()"
      ],
      "metadata": {
        "colab": {
          "base_uri": "https://localhost:8080/"
        },
        "id": "EORPRDZiGFHb",
        "outputId": "fe12338c-5d28-453f-9c2b-756fdc7c19b6"
      },
      "execution_count": 23,
      "outputs": [
        {
          "output_type": "execute_result",
          "data": {
            "text/plain": [
              "tensor(1.)"
            ]
          },
          "metadata": {},
          "execution_count": 23
        }
      ]
    },
    {
      "cell_type": "code",
      "source": [
        "softmax = nn.Softmax(dim=1)\n",
        "x = torch.tensor([[1.0, 2.0, 3.0],\n",
        "[1.0, 2.0, 3.0]])\n",
        "softmax(x)"
      ],
      "metadata": {
        "colab": {
          "base_uri": "https://localhost:8080/"
        },
        "id": "ItHhuzSZGGar",
        "outputId": "c8ab7190-d003-4159-8844-0e32a21a97ae"
      },
      "execution_count": 24,
      "outputs": [
        {
          "output_type": "execute_result",
          "data": {
            "text/plain": [
              "tensor([[0.0900, 0.2447, 0.6652],\n",
              "        [0.0900, 0.2447, 0.6652]])"
            ]
          },
          "metadata": {},
          "execution_count": 24
        }
      ]
    },
    {
      "cell_type": "code",
      "source": [
        " model = nn.Sequential(\n",
        " nn.Linear(3072, 512),\n",
        " nn.Tanh(),\n",
        " nn.Linear(512, 2),\n",
        " nn.Softmax(dim=1))"
      ],
      "metadata": {
        "id": "0vzZGW6YGLly"
      },
      "execution_count": 25,
      "outputs": []
    },
    {
      "cell_type": "code",
      "source": [
        "img_t, _ = cifar2[0]\n",
        "img_t = to_tensor(img_t)\n",
        "plt.imshow(img_t.permute(1, 2, 0))\n",
        "plt.show()"
      ],
      "metadata": {
        "colab": {
          "base_uri": "https://localhost:8080/",
          "height": 430
        },
        "id": "A_NcdheBGUc6",
        "outputId": "bfc9e3e2-5018-4d68-ba09-2c64620ccd45"
      },
      "execution_count": 26,
      "outputs": [
        {
          "output_type": "display_data",
          "data": {
            "text/plain": [
              "<Figure size 640x480 with 1 Axes>"
            ],
            "image/png": "[encoded data removed]"
          },
          "metadata": {}
        }
      ]
    },
    {
      "cell_type": "code",
      "source": [
        "img_t = to_tensor(img)\n",
        "img_batch = img_t.view(-1).unsqueeze(0)"
      ],
      "metadata": {
        "id": "2f42NHa2GmJb"
      },
      "execution_count": 27,
      "outputs": []
    },
    {
      "cell_type": "code",
      "source": [
        " out = model(img_batch)\n",
        " out"
      ],
      "metadata": {
        "colab": {
          "base_uri": "https://localhost:8080/"
        },
        "id": "7u95Te4oHaaL",
        "outputId": "6acb0bbc-7be4-4452-c3c6-33069d755d38"
      },
      "execution_count": 28,
      "outputs": [
        {
          "output_type": "execute_result",
          "data": {
            "text/plain": [
              "tensor([[0.5393, 0.4607]], grad_fn=<SoftmaxBackward0>)"
            ]
          },
          "metadata": {},
          "execution_count": 28
        }
      ]
    },
    {
      "cell_type": "code",
      "source": [
        " _, index = torch.max(out, dim=1)\n",
        " index"
      ],
      "metadata": {
        "colab": {
          "base_uri": "https://localhost:8080/"
        },
        "id": "w54JVCWVHdoL",
        "outputId": "6456e23d-ea70-4d36-a024-f7f6dc49cb3f"
      },
      "execution_count": 29,
      "outputs": [
        {
          "output_type": "execute_result",
          "data": {
            "text/plain": [
              "tensor([0])"
            ]
          },
          "metadata": {},
          "execution_count": 29
        }
      ]
    },
    {
      "cell_type": "code",
      "source": [
        "model = nn.Sequential(\n",
        " nn.Linear(3072, 512),\n",
        " nn.Tanh(),\n",
        " nn.Linear(512, 2),\n",
        " nn.LogSoftmax(dim=1))\n",
        "loss = nn.NLLLoss()\n",
        "img, label = cifar2[0]\n",
        "img_t = to_tensor(img)\n",
        "out = model(img_t.view(-1).unsqueeze(0))\n",
        "loss(out, torch.tensor([label]))"
      ],
      "metadata": {
        "colab": {
          "base_uri": "https://localhost:8080/"
        },
        "id": "MXcLxJ_pHkSy",
        "outputId": "aedf1c64-ac63-433a-f6ad-41568338aef6"
      },
      "execution_count": 30,
      "outputs": [
        {
          "output_type": "execute_result",
          "data": {
            "text/plain": [
              "tensor(0.6540, grad_fn=<NllLossBackward0>)"
            ]
          },
          "metadata": {},
          "execution_count": 30
        }
      ]
    },
    {
      "cell_type": "code",
      "source": [
        "import torch\n",
        "import torch.nn as nn\n",
        "from torch import optim\n",
        "model = nn.Sequential(\n",
        " nn.Linear(3072, 512),\n",
        " nn.Tanh(),\n",
        " nn.Linear(512, 2),\n",
        " nn.LogSoftmax(dim=1))\n",
        "learning_rate = 1e-2\n",
        "optimizer = optim.SGD(model.parameters(), lr=learning_rate)\n",
        "loss_fn = nn.NLLLoss()\n",
        "n_epochs = 5\n",
        "for epoch in range(n_epochs):\n",
        " for img, label in cifar2:\n",
        "  img_t = to_tensor(img)\n",
        "  out = model(img_t.view(-1).unsqueeze(0))\n",
        "  loss = loss_fn(out, torch.tensor([label]))\n",
        "  optimizer.zero_grad()\n",
        "  loss.backward()\n",
        "  optimizer.step()\n",
        " print(\"Epoch: %d, Loss: %f\" % (epoch, float(loss)))"
      ],
      "metadata": {
        "colab": {
          "base_uri": "https://localhost:8080/"
        },
        "id": "Nc4NrLv7IGNb",
        "outputId": "554cdae1-18c6-4069-fae4-61448e842dbd"
      },
      "execution_count": 31,
      "outputs": [
        {
          "output_type": "stream",
          "name": "stderr",
          "text": [
            "/tmp/ipython-input-3175390108.py:21: UserWarning: Converting a tensor with requires_grad=True to a scalar may lead to unexpected behavior.\n",
            "Consider using tensor.detach() first. (Triggered internally at /pytorch/torch/csrc/autograd/generated/python_variable_methods.cpp:835.)\n",
            "  print(\"Epoch: %d, Loss: %f\" % (epoch, float(loss)))\n"
          ]
        },
        {
          "output_type": "stream",
          "name": "stdout",
          "text": [
            "Epoch: 0, Loss: 1.212421\n",
            "Epoch: 1, Loss: 1.453369\n",
            "Epoch: 2, Loss: 1.916056\n",
            "Epoch: 3, Loss: 2.466048\n",
            "Epoch: 4, Loss: 2.985746\n"
          ]
        }
      ]
    },
    {
      "cell_type": "code",
      "source": [
        "train_loader = torch.utils.data.DataLoader(cifar2, batch_size=64,\n",
        " shuffle=True)"
      ],
      "metadata": {
        "id": "XL8Ml2d-N0-D"
      },
      "execution_count": 32,
      "outputs": []
    },
    {
      "cell_type": "code",
      "source": [
        "import torch\n",
        "import torch.nn as nn\n",
        "from torch import optim\n",
        "train_loader = torch.utils.data.DataLoader(cifar2, batch_size=64,\n",
        " shuffle=True)\n",
        "model = nn.Sequential(\n",
        " nn.Linear(3072, 512),\n",
        " nn.Tanh(),\n",
        " nn.Linear(512, 2),\n",
        " nn.LogSoftmax(dim=1))\n",
        "learning_rate = 1e-2\n",
        "optimizer = optim.SGD(model.parameters(), lr=learning_rate)\n",
        "loss_fn = nn.NLLLoss()\n",
        "n_epochs = 5\n",
        "for epoch in range(n_epochs):\n",
        " for img, label in cifar2:\n",
        "  img_t = to_tensor(img)\n",
        "  out = model(img_t.view(-1).unsqueeze(0))\n",
        "  loss = loss_fn(out, torch.tensor([label]))\n",
        "  optimizer.zero_grad()\n",
        "  loss.backward()\n",
        "  optimizer.step()\n",
        " print(\"Epoch: %d, Loss: %f\" % (epoch, float(loss)))"
      ],
      "metadata": {
        "colab": {
          "base_uri": "https://localhost:8080/"
        },
        "id": "rFaoleF6PR8s",
        "outputId": "3b5a5988-4791-4d57-e251-17e5c108869e"
      },
      "execution_count": 33,
      "outputs": [
        {
          "output_type": "stream",
          "name": "stdout",
          "text": [
            "Epoch: 0, Loss: 1.169678\n",
            "Epoch: 1, Loss: 1.338720\n",
            "Epoch: 2, Loss: 1.982815\n",
            "Epoch: 3, Loss: 2.057581\n",
            "Epoch: 4, Loss: 2.874628\n"
          ]
        }
      ]
    },
    {
      "cell_type": "code",
      "source": [
        "val_loader = torch.utils.data.DataLoader(cifar2_val, batch_size=64,\n",
        " shuffle=False)\n",
        "correct = 0\n",
        "total = 0\n",
        "with torch.no_grad():\n",
        " for imgs, labels in val_loader:\n",
        "  batch_size = imgs.shape[0]\n",
        "  outputs = model(imgs.view(batch_size,-1))\n",
        "  _, predicted = torch.max(outputs, dim=1)\n",
        "  total += labels.shape[0]\n",
        "  correct += int((predicted == labels).sum())\n",
        "print(\"Accuracy: %f\" % (correct / total))"
      ],
      "metadata": {
        "colab": {
          "base_uri": "https://localhost:8080/"
        },
        "id": "RskzkI89PzG8",
        "outputId": "69f30779-41de-42bb-ab16-72081cebf968"
      },
      "execution_count": 40,
      "outputs": [
        {
          "output_type": "stream",
          "name": "stdout",
          "text": [
            "Accuracy: 0.542000\n"
          ]
        }
      ]
    },
    {
      "cell_type": "code",
      "source": [
        "model = nn.Sequential(\n",
        " nn.Linear(3072, 1024),\n",
        " nn.Tanh(),\n",
        " nn.Linear(1024, 512),\n",
        " nn.Tanh(),\n",
        " nn.Linear(512, 128),\n",
        " nn.Tanh(),\n",
        " nn.Linear(128, 2),\n",
        " nn.LogSoftmax(dim=1))"
      ],
      "metadata": {
        "id": "tGTxFtF7QnJk"
      },
      "execution_count": 41,
      "outputs": []
    },
    {
      "cell_type": "code",
      "source": [
        "model = nn.Sequential(\n",
        " nn.Linear(3072, 1024),\n",
        " nn.Tanh(),\n",
        " nn.Linear(1024, 512),\n",
        " nn.Tanh(),\n",
        " nn.Linear(512, 128),\n",
        " nn.Tanh(),\n",
        " nn.Linear(128, 2))\n",
        "loss_fn = nn.CrossEntropyLoss()"
      ],
      "metadata": {
        "id": "4dz6nLoFQrsl"
      },
      "execution_count": 42,
      "outputs": []
    },
    {
      "cell_type": "code",
      "source": [
        "numel_list = [p.numel()\n",
        " for p in model.parameters()\n",
        " if p.requires_grad == True]\n",
        "sum(numel_list), numel_list"
      ],
      "metadata": {
        "colab": {
          "base_uri": "https://localhost:8080/"
        },
        "id": "0Qztg8eDQwXj",
        "outputId": "65d1cf52-ed1d-4191-a6b6-2378b260e8c6"
      },
      "execution_count": 44,
      "outputs": [
        {
          "output_type": "execute_result",
          "data": {
            "text/plain": [
              "(3737474, [3145728, 1024, 524288, 512, 65536, 128, 256, 2])"
            ]
          },
          "metadata": {},
          "execution_count": 44
        }
      ]
    },
    {
      "cell_type": "code",
      "source": [
        "numel_list = [p.numel() for p in model.parameters()]\n",
        "sum(numel_list), numel_list"
      ],
      "metadata": {
        "colab": {
          "base_uri": "https://localhost:8080/"
        },
        "id": "_o9R6uCbRXak",
        "outputId": "af750e4d-ca97-4524-f43d-a2e9b72a4c4a"
      },
      "execution_count": 46,
      "outputs": [
        {
          "output_type": "execute_result",
          "data": {
            "text/plain": [
              "(3737474, [3145728, 1024, 524288, 512, 65536, 128, 256, 2])"
            ]
          },
          "metadata": {},
          "execution_count": 46
        }
      ]
    },
    {
      "cell_type": "code",
      "source": [
        "linear = nn.Linear(3072, 1024)\n",
        "linear.weight.shape, linear.bias.shape"
      ],
      "metadata": {
        "colab": {
          "base_uri": "https://localhost:8080/"
        },
        "id": "E0OXzUM5Bbt-",
        "outputId": "5c96b518-7979-4d0b-c7b9-4d3a94efbbaf"
      },
      "execution_count": 47,
      "outputs": [
        {
          "output_type": "execute_result",
          "data": {
            "text/plain": [
              "(torch.Size([1024, 3072]), torch.Size([1024]))"
            ]
          },
          "metadata": {},
          "execution_count": 47
        }
      ]
    }
  ]
}